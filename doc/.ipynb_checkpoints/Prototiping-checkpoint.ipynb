{
 "cells": [
  {
   "cell_type": "code",
   "execution_count": null,
   "id": "87f5a5cc",
   "metadata": {},
   "outputs": [],
   "source": [
    "# Load file\n",
    "\n",
    "import os \n",
    "from stltolammps import loadstl as lmp"
   ]
  },
  {
   "cell_type": "code",
   "execution_count": null,
   "id": "103dadc3",
   "metadata": {},
   "outputs": [],
   "source": [
    "stl_filename = os.path.join(\".\", \"PCR Chip - Fluid Layer.stl\")\n",
    "\n",
    "stl_shp=lmp.loadstl_file(stl_filename)"
   ]
  },
  {
   "cell_type": "code",
   "execution_count": null,
   "id": "aa525e75",
   "metadata": {},
   "outputs": [],
   "source": [
    "from OCC.Display.SimpleGui import init_display\n",
    "\n",
    "display, start_display, add_menu, add_function_to_menu = init_display()\n",
    "display.Context.Display(stl_shp, True)\n",
    "display.FitAll()\n",
    "start_display()"
   ]
  },
  {
   "cell_type": "code",
   "execution_count": null,
   "id": "21de12db",
   "metadata": {},
   "outputs": [],
   "source": []
  }
 ],
 "metadata": {
  "kernelspec": {
   "display_name": "Python 3 (ipykernel)",
   "language": "python",
   "name": "python3"
  },
  "language_info": {
   "codemirror_mode": {
    "name": "ipython",
    "version": 3
   },
   "file_extension": ".py",
   "mimetype": "text/x-python",
   "name": "python",
   "nbconvert_exporter": "python",
   "pygments_lexer": "ipython3",
   "version": "3.9.13"
  }
 },
 "nbformat": 4,
 "nbformat_minor": 5
}

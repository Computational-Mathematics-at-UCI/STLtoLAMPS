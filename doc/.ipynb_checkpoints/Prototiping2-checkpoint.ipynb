{
 "cells": [
  {
   "cell_type": "code",
   "execution_count": 1,
   "id": "87f5a5cc",
   "metadata": {},
   "outputs": [],
   "source": [
    "# Load file\n",
    "\n",
    "import os \n",
    "from stltolammps import loadstl as lmp"
   ]
  },
  {
   "cell_type": "code",
   "execution_count": 2,
   "id": "f4f0b557",
   "metadata": {},
   "outputs": [],
   "source": [
    "stl_filename = os.path.join(\".\", \"PCR Chip - Fluid Layer.stl\")\n",
    "\n",
    "mesh_prs=lmp.loadstl_file(stl_filename)"
   ]
  },
  {
   "cell_type": "code",
   "execution_count": null,
   "id": "d23c58ad",
   "metadata": {},
   "outputs": [],
   "source": [
    "from OCC.Display.SimpleGui import init_display\n",
    "\n",
    "display2, start_display2, add_menu, add_function_to_menu = init_display()\n",
    "display2.Context.Display(a_mesh_prs, True)\n",
    "start_display2()"
   ]
  }
 ],
 "metadata": {
  "kernelspec": {
   "display_name": "Python 3 (ipykernel)",
   "language": "python",
   "name": "python3"
  },
  "language_info": {
   "codemirror_mode": {
    "name": "ipython",
    "version": 3
   },
   "file_extension": ".py",
   "mimetype": "text/x-python",
   "name": "python",
   "nbconvert_exporter": "python",
   "pygments_lexer": "ipython3",
   "version": "3.9.13"
  }
 },
 "nbformat": 4,
 "nbformat_minor": 5
}
